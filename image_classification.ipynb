{
  "nbformat": 4,
  "nbformat_minor": 0,
  "metadata": {
    "colab": {
      "name": "image classification.ipynb",
      "provenance": [],
      "mount_file_id": "14BnYMtfscPIMMSd9xxZPCUAC3_bugPfu",
      "authorship_tag": "ABX9TyOIkHVOgfOp70cyPeuILE0l",
      "include_colab_link": true
    },
    "kernelspec": {
      "name": "python3",
      "display_name": "Python 3"
    },
    "language_info": {
      "name": "python"
    }
  },
  "cells": [
    {
      "cell_type": "markdown",
      "metadata": {
        "id": "view-in-github",
        "colab_type": "text"
      },
      "source": [
        "<a href=\"https://colab.research.google.com/github/dnchandni/Minor-Project/blob/main/image_classification.ipynb\" target=\"_parent\"><img src=\"https://colab.research.google.com/assets/colab-badge.svg\" alt=\"Open In Colab\"/></a>"
      ]
    },
    {
      "cell_type": "code",
      "metadata": {
        "id": "3oQgNu6MTcN7",
        "colab": {
          "base_uri": "https://localhost:8080/"
        },
        "outputId": "f36d8fc5-f3aa-4143-bdb4-9c81eeb9802c"
      },
      "source": [
        "import os\n",
        "import numpy as np\n",
        "import matplotlib.pyplot as plt\n",
        "from skimage.io import imread\n",
        "from skimage.transform import resize\n",
        "from sklearn.model_selection import train_test_split\n",
        "from sklearn.model_selection import GridSearchCV\n",
        "from sklearn.metrics import accuracy_score, confusion_matrix\n",
        "import pickle\n",
        "from sklearn import svm\n",
        "\n",
        "target = []  # output\n",
        "images = []  # data-images\n",
        "flat_data = []  # data to train out model (ie: flattened value-2D to 1D)\n",
        "\n",
        "DATADIR = '/content/drive/MyDrive/minor project - DS/data'\n",
        "CATEGORIES = ['badminton', 'boxing', 'football']\n",
        "\n",
        "for category in CATEGORIES:\n",
        "    class_num = CATEGORIES.index(category)  \n",
        "    path = os.path.join(DATADIR, category)  \n",
        "    for img in os.listdir(path):\n",
        "        img_array = imread(os.path.join(path, img))\n",
        "        img_resize = resize(img_array, (150, 150, 3))\n",
        "        flat_data.append(img_resize.flatten())\n",
        "        images.append(img_resize)\n",
        "        target.append(class_num)\n",
        "\n",
        "x = np.array(flat_data)\n",
        "y = np.array(target)\n",
        "images = np.array(images)\n",
        "\n",
        "unique, count = (np.unique(y, return_counts=True))\n",
        "X_train, X_test, y_train, y_test = train_test_split(x, y, test_size=0.33, random_state=42)\n",
        "\n",
        "param_grid = [\n",
        "    {'C': [1, 10, 100, 1000], 'kernel':['linear']},\n",
        "    {'C': [1, 10, 100, 1000], 'gamma':[0.001, 0.0001], 'kernel':['rbf']}\n",
        "]\n",
        "\n",
        "svc = svm.SVC(probability=True)\n",
        "clf =GridSearchCV(svc, param_grid)\n",
        "clf.fit(X_train, y_train)\n",
        "\n",
        "y_pred = clf.predict(X_test)\n",
        "print(accuracy_score(y_pred, y_test))\n",
        "\n",
        "with open('train.pickle', 'wb') as f:\n",
        "    pickle.dump([clf, CATEGORIES], f)"
      ],
      "execution_count": 1,
      "outputs": [
        {
          "output_type": "stream",
          "text": [
            "0.8875\n"
          ],
          "name": "stdout"
        }
      ]
    },
    {
      "cell_type": "code",
      "metadata": {
        "id": "zSWHRnZSd8FS",
        "colab": {
          "base_uri": "https://localhost:8080/"
        },
        "outputId": "89bd5141-8eb2-4197-9376-35c7ab46c2d7"
      },
      "source": [
        "import pickle\n",
        "from skimage.io import imread\n",
        "import numpy as np\n",
        "from skimage.transform import resize\n",
        "\n",
        "with open('train.pickle', 'rb') as f:\n",
        "    clf, CATEGORIES = pickle.load(f)\n",
        "\n",
        "model = clf\n",
        "flat_data = []\n",
        "path = input(\"Enter website URL or file path of your image: \")\n",
        "img = imread(path)\n",
        "\n",
        "img_resize = resize(img, (150, 150, 3))\n",
        "flat_data.append(img_resize.flatten())\n",
        "flat_data = np.array(flat_data)\n",
        "y_pred = model.predict(flat_data)\n",
        "y_pred = CATEGORIES[y_pred[0]]\n",
        "print(f'The predicted output is : {y_pred}')"
      ],
      "execution_count": 8,
      "outputs": [
        {
          "output_type": "stream",
          "text": [
            "Enter website URL or file path of your image: https://thumbs.dreamstime.com/b/running-soccer-football-players-footballers-kicking-football-match-game-young-ball-stadium-80761107.jpg\n",
            "The predicted output is : football\n"
          ],
          "name": "stdout"
        }
      ]
    }
  ]
}